{
 "cells": [
  {
   "cell_type": "code",
   "execution_count": 13,
   "metadata": {
    "collapsed": false
   },
   "outputs": [
    {
     "name": "stdout",
     "output_type": "stream",
     "text": [
      "type(w): <class 'tensorflow.python.ops.variables.Variable'>\n",
      "type(x_range): <class 'tensorflow.python.framework.ops.Tensor'>\n",
      "type(x_reshape): <class 'tensorflow.python.framework.ops.Tensor'>\n",
      "type(b): <class 'tensorflow.python.framework.ops.Tensor'>\n",
      "type(y): <class 'tensorflow.python.framework.ops.Tensor'>\n",
      "type(w): <class 'numpy.ndarray'>\n",
      "[[-0.17095603  0.50642931 -0.95698953]\n",
      " [-1.33873129 -0.65750587 -1.78415334]\n",
      " [-0.79168785  1.48711073  0.75850117]]\n",
      "[[ 0.]\n",
      " [ 1.]\n",
      " [ 2.]]\n",
      "[[-1.40754974]\n",
      " [-4.22581244]\n",
      " [ 3.0041132 ]]\n"
     ]
    }
   ],
   "source": [
    "import tensorflow as tf\n",
    "\n",
    "w = tf.Variable(tf.truncated_normal([3,3]), name='w')\n",
    "print('type(w): %s' % type(w))\n",
    "x_range = tf.range(3, dtype=tf.float32)\n",
    "print('type(x_range): %s' % type(x_range))\n",
    "x_reshape = tf.reshape(x_range, [3, 1])\n",
    "print('type(x_reshape): %s' % type(x_reshape))\n",
    "x = tf.Variable(x_reshape, trainable=False, name='x')\n",
    "b = tf.constant(0., name='b')\n",
    "print('type(b): %s' % type(b))\n",
    "y = tf.matmul(w, x, name='y') + b\n",
    "print('type(y): %s' % type(y))\n",
    "with tf.Session() as session:\n",
    "    session.run(tf.global_variables_initializer())\n",
    "    w, x, y = session.run([w, x, y])\n",
    "    print('type(w): %s' % type(w))\n",
    "    print(w)\n",
    "    print(x)\n",
    "    print(y)"
   ]
  },
  {
   "cell_type": "code",
   "execution_count": 25,
   "metadata": {
    "collapsed": false
   },
   "outputs": [
    {
     "name": "stdout",
     "output_type": "stream",
     "text": [
      "[IndexedSlicesValue(values=array([[ 1.,  1.,  1.],\n",
      "       [ 1.,  1.,  1.],\n",
      "       [ 1.,  1.,  1.]], dtype=float32), indices=array([ 0,  1, 99], dtype=int32), dense_shape=array([100,   3,   3], dtype=int32))]\n"
     ]
    }
   ],
   "source": [
    "values = tf.ones([3,3])\n",
    "indices = tf.constant([0, 1, 99])\n",
    "dense_shape=tf.constant([100,3,3])\n",
    "a = tf.IndexedSlices(values, indices, dense_shape)\n",
    "with tf.Session() as session:\n",
    "    print(session.run([a]))"
   ]
  },
  {
   "cell_type": "code",
   "execution_count": 29,
   "metadata": {
    "collapsed": false
   },
   "outputs": [
    {
     "name": "stdout",
     "output_type": "stream",
     "text": [
      "[SparseTensorValue(indices=array([[0, 0],\n",
      "       [1, 2]]), values=array([1, 2], dtype=int32), dense_shape=array([3, 4]))]\n",
      "[array([[1, 0, 0, 0],\n",
      "       [0, 0, 2, 0],\n",
      "       [0, 0, 0, 0]], dtype=int32)]\n"
     ]
    }
   ],
   "source": [
    "a = tf.SparseTensor(indices=[[0, 0], [1, 2]], \n",
    "                    values=[1, 2], dense_shape=[3, 4])\n",
    "b = tf.sparse_tensor_to_dense(a)\n",
    "with tf.Session() as session:\n",
    "    print(session.run([a]))\n",
    "    print(session.run([b]))"
   ]
  },
  {
   "cell_type": "code",
   "execution_count": 30,
   "metadata": {
    "collapsed": false
   },
   "outputs": [
    {
     "name": "stdout",
     "output_type": "stream",
     "text": [
      "<class 'tensorflow.python.framework.ops.Tensor'>\n",
      "[[ 6.]]\n",
      "[[ 1.  1.  1.]]\n",
      "[[ 0.89999998  0.80000001  0.69999999]\n",
      " [ 2.          2.          2.        ]]\n"
     ]
    }
   ],
   "source": [
    "embed = tf.Variable([[1., 1., 1.], [2., 2., 2.]], name='embedname')\n",
    "x = tf.constant([[1.],[2.],[3.]])\n",
    "w = tf.nn.embedding_lookup(embed, [0])\n",
    "print(type(w))\n",
    "loss = tf.matmul(w,x)\n",
    "train = tf.train.GradientDescentOptimizer(0.1).minimize(loss)\n",
    "with tf.Session() as session:\n",
    "    session.run(tf.global_variables_initializer())\n",
    "    _, loss,w,embed = session.run([train, loss, w, embed])\n",
    "    print(loss)\n",
    "    print(w)\n",
    "    print(embed)\n"
   ]
  },
  {
   "cell_type": "code",
   "execution_count": 44,
   "metadata": {
    "collapsed": false
   },
   "outputs": [
    {
     "name": "stdout",
     "output_type": "stream",
     "text": [
      "embedname\n",
      "<class 'tensorflow.python.framework.ops.IndexedSlices'>\n",
      "IndexedSlicesValue(values=array([[ 1.,  2.,  3.]], dtype=float32), indices=array([0], dtype=int32), dense_shape=array([2, 3], dtype=int32))\n",
      "[[ 1.  1.  1.]\n",
      " [ 2.  2.  2.]]\n",
      "----------------------------------------\n",
      "IndexedSlicesValue(values=array([[ 1.,  2.,  3.]], dtype=float32), indices=array([0], dtype=int32), dense_shape=array([2, 3], dtype=int32))\n",
      "[[ 0.89999998  0.80000001  0.69999999]\n",
      " [ 2.          2.          2.        ]]\n"
     ]
    }
   ],
   "source": [
    "with tf.Graph().as_default() as graph:\n",
    "    embed = tf.Variable([[1., 1., 1.], [2., 2., 2.]], name='embedname')\n",
    "    x = tf.constant([[1.],[2.],[3.]])\n",
    "    w = tf.nn.embedding_lookup(embed, [0])\n",
    "    loss = tf.matmul(w,x)\n",
    "    optimizer = tf.train.GradientDescentOptimizer(0.1)\n",
    "    grads = optimizer.compute_gradients(loss)\n",
    "    g = grads[0][0] # grads = [(g, v)]\n",
    "    v = grads[0][1]\n",
    "    print(v.op.name)\n",
    "    print(type(g))\n",
    "    train = optimizer.apply_gradients(grads)\n",
    "with tf.Session(graph=graph) as session:\n",
    "    session.run(tf.global_variables_initializer())\n",
    "    grads,g_val, v_val = session.run([grads,g, v])\n",
    "    print(g_val)\n",
    "    print(v_val)\n",
    "    print('-'*40)\n",
    "    _, g_val, v_val = session.run([train, g, v])\n",
    "    print(g_val)\n",
    "    print(v_val)"
   ]
  },
  {
   "cell_type": "code",
   "execution_count": 84,
   "metadata": {
    "collapsed": false
   },
   "outputs": [
    {
     "name": "stdout",
     "output_type": "stream",
     "text": [
      "[[ True  True False]\n",
      " [ True False False]]\n",
      "[[0 0]\n",
      " [0 1]\n",
      " [1 0]]\n",
      "[ 3.  3.  3.]\n",
      "[[ 3.  3.  2.]\n",
      " [ 3.  2.  2.]]\n"
     ]
    }
   ],
   "source": [
    "with tf.Graph().as_default() as graph:\n",
    "    embed = tf.Variable([[1., 1., 2.], [1., 2., 2.]])\n",
    "    less = tf.less(embed, 2)\n",
    "    idx = tf.where(less)      \n",
    "    updates = 3*tf.ones_like(idx[:,0],dtype=tf.float32)\n",
    "    op = tf.scatter_nd_update(embed, idx, updates)\n",
    "with tf.Session(graph=graph) as session:\n",
    "    session.run(tf.global_variables_initializer())\n",
    "    less,idx,updates = session.run([less, idx, updates])\n",
    "    print(less)\n",
    "    print(idx)\n",
    "    print(updates)\n",
    "    _,embed = session.run([op, embed])\n",
    "    print(embed)\n",
    "    "
   ]
  },
  {
   "cell_type": "code",
   "execution_count": 94,
   "metadata": {
    "collapsed": false
   },
   "outputs": [
    {
     "name": "stdout",
     "output_type": "stream",
     "text": [
      "[array([[ 0,  0],\n",
      "       [ 1,  2],\n",
      "       [ 2,  4],\n",
      "       [ 3,  6],\n",
      "       [ 4,  8],\n",
      "       [ 5, 10],\n",
      "       [ 6, 12],\n",
      "       [ 7, 14],\n",
      "       [ 8, 16],\n",
      "       [ 9, 18]], dtype=int32)]\n",
      "[9, 18]\n"
     ]
    }
   ],
   "source": [
    "import tensorflow as tf\n",
    "x = tf.range(10)\n",
    "y = 2 * tf.range(10)\n",
    "batch = tf.stack([x, y], axis=1)\n",
    "N = batch.shape[0]\n",
    "i = tf.constant(0)\n",
    "for i in range(N):\n",
    "    xi, yi = tf.unstack(batch[i])\n",
    "    # tf.Print not working in jupyter notebook\n",
    "    # run the code locally to see the output\n",
    "    op = tf.Print(i, [xi, yi])\n",
    "\n",
    "with tf.Session() as session:\n",
    "    b = session.run([batch])\n",
    "    print(b)\n",
    "    session.run([op])\n"
   ]
  },
  {
   "cell_type": "code",
   "execution_count": 101,
   "metadata": {
    "collapsed": false
   },
   "outputs": [
    {
     "name": "stdout",
     "output_type": "stream",
     "text": [
      "[0] [0]\n",
      "[1] [2]\n",
      "[2] [4]\n",
      "[3] [6]\n",
      "[4] [8]\n",
      "[5] [10]\n",
      "[6] [12]\n",
      "[7] [14]\n",
      "[8] [16]\n",
      "[9] [18]\n"
     ]
    }
   ],
   "source": [
    "import tensorflow as tf\n",
    "\n",
    "x = tf.range(10)\n",
    "y = 2 * tf.range(10)\n",
    "batch = tf.stack([x, y], axis=1)\n",
    "N = batch.shape[0]\n",
    "i = tf.constant(0)\n",
    "c = lambda i: tf.less(i, N)\n",
    "def b(i):\n",
    "    xi, yi = tf.unstack(batch[i])\n",
    "    # tf.Print not working in jupyter notebook\n",
    "    # run the code locally to see the output\n",
    "    pt = tf.Print(i, [xi, yi])\n",
    "    with tf.control_dependencies([pt]):\n",
    "        return tf.add(i, 1)\n",
    "op = tf.while_loop(c, b, [i])\n",
    "\n",
    "with tf.Session() as session:\n",
    "    session.run([op])"
   ]
  },
  {
   "cell_type": "code",
   "execution_count": 4,
   "metadata": {
    "collapsed": false
   },
   "outputs": [
    {
     "name": "stdout",
     "output_type": "stream",
     "text": [
      "0, 6.00\n",
      "1, 4.60\n",
      "2, 3.20\n",
      "3, 1.80\n",
      "4, 0.40\n",
      "5, -1.00\n",
      "6, -2.40\n",
      "7, -3.80\n",
      "8, -5.20\n",
      "9, -6.60\n"
     ]
    }
   ],
   "source": [
    "import tensorflow as tf \n",
    "\n",
    "with tf.Graph().as_default() as graph:\n",
    "    embed = tf.Variable([[1., 1., 1.], [2., 2., 2.]])\n",
    "    x = tf.constant([[1.],[2.],[3.]])\n",
    "    w = tf.nn.embedding_lookup(embed, [0])\n",
    "    loss = tf.reduce_sum(tf.matmul(w,x))\n",
    "    tf.summary.scalar('loss', loss)\n",
    "    for var in tf.trainable_variables():\n",
    "        tf.summary.histogram(var.op.name, var)\n",
    "    train = tf.train.GradientDescentOptimizer(0.1).minimize(loss)\n",
    "    merged = tf.summary.merge_all()\n",
    "with tf.Session(graph=graph) as session:\n",
    "    session.run(tf.global_variables_initializer())\n",
    "    writer = tf.summary.FileWriter('output', session.graph)\n",
    "    for i in range(10):\n",
    "        summary, _, loss_ = session.run([merged, train, loss])\n",
    "        print('%d, %.2f' %(i,loss_))\n",
    "        writer.add_summary(summary, loss_)\n",
    "    # tensorboard --logdir=output/"
   ]
  },
  {
   "cell_type": "code",
   "execution_count": null,
   "metadata": {
    "collapsed": true
   },
   "outputs": [],
   "source": [
    "import tensorflow as tf \n",
    "\n",
    "with tf.Graph().as_default() as graph:\n",
    "    with tf.name_scope('loss'):\n",
    "        embed = tf.Variable([[1., 1., 1.], [2., 2., 2.]], name='embed')\n",
    "        x = tf.constant([[1.],[2.],[3.]], name='x')\n",
    "        w = tf.nn.embedding_lookup(embed, [0],name='w')\n",
    "        loss = tf.reduce_sum(tf.matmul(w,x),name='loss')\n",
    "    tf.summary.scalar('loss', loss)\n",
    "    for var in tf.trainable_variables():\n",
    "        tf.summary.histogram(var.op.name, var)\n",
    "    train = tf.train.GradientDescentOptimizer(0.1).minimize(loss)\n",
    "    merged = tf.summary.merge_all()\n",
    "with tf.Session(graph=graph) as session:\n",
    "    session.run(tf.global_variables_initializer())\n",
    "    writer = tf.summary.FileWriter('output', session.graph)\n",
    "    for i in range(10):\n",
    "        summary, _, loss_ = session.run([merged, train, loss])\n",
    "        print('%d, %.2f' %(i,loss_))\n",
    "        writer.add_summary(summary, loss_)"
   ]
  },
  {
   "cell_type": "code",
   "execution_count": null,
   "metadata": {
    "collapsed": true
   },
   "outputs": [],
   "source": [
    "saver = tf.train.Saver()\n",
    "ckpt = tf.train.get_checkpoint_state(train_dir)\n",
    "if ckpt and tf.train.checkpoint_exists(\n",
    "                        ckpt.model_checkpoint_path):\n",
    "    print(\"Reading model parameters from %s\" % \n",
    "                        ckpt.model_checkpoint_path)\n",
    "    saver.restore(session, ckpt.model_checkpoint_path)\n",
    "else:\n",
    "    print(\"Created model with fresh parameters.\")\n",
    "    session.run(tf.global_variables_initializer())\n",
    "saver.save(session, checkpoint_path, global_step)"
   ]
  },
  {
   "cell_type": "code",
   "execution_count": null,
   "metadata": {
    "collapsed": true
   },
   "outputs": [],
   "source": [
    "# Config to turn on JIT compilation\n",
    "config = tf.ConfigProto()\n",
    "config.graph_options.optimizer_options.global_jit_level = tf.OptimizerOptions.ON_1\n",
    "\n",
    "sess = tf.Session(config=config)\n"
   ]
  },
  {
   "cell_type": "code",
   "execution_count": null,
   "metadata": {
    "collapsed": true
   },
   "outputs": [],
   "source": [
    "from tensorflow.python import debug as tf_debug\n",
    "\n",
    "session = tf_debug.LocalCLIDebugWrapperSession(session)\n",
    "session.add_tensor_filter(\"has_inf_or_nan\", tf_debug.has_inf_or_nan)"
   ]
  }
 ],
 "metadata": {
  "anaconda-cloud": {},
  "kernelspec": {
   "display_name": "Python [default]",
   "language": "python",
   "name": "python3"
  },
  "language_info": {
   "codemirror_mode": {
    "name": "ipython",
    "version": 3
   },
   "file_extension": ".py",
   "mimetype": "text/x-python",
   "name": "python",
   "nbconvert_exporter": "python",
   "pygments_lexer": "ipython3",
   "version": "3.5.2"
  }
 },
 "nbformat": 4,
 "nbformat_minor": 1
}
